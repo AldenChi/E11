{
  "nbformat": 4,
  "nbformat_minor": 0,
  "metadata": {
    "colab": {
      "provenance": []
    },
    "kernelspec": {
      "name": "python3",
      "display_name": "Python 3"
    },
    "language_info": {
      "name": "python"
    }
  },
  "cells": [
    {
      "cell_type": "code",
      "execution_count": null,
      "metadata": {
        "id": "JAGw0vZqJN12"
      },
      "outputs": [],
      "source": [
        "import sys\n",
        "import random\n",
        "import time\n",
        "import argparse\n",
        "import csv\n",
        "import adafruit_bme680\n",
        "import board\n",
        "import busio\n",
        "from digitalio import DigitalInOut, Direction, Pull\n",
        "from adafruit_pm25.i2c import PM25_I2C"
      ]
    },
    {
      "cell_type": "code",
      "source": [
        "i2c=board.I2C()\n",
        "bme680=adafruit_bme680.Adafruit_BME680_I2C(i2c)\n",
        "bme680.sea_level_pressure=1013.25"
      ],
      "metadata": {
        "id": "0_jJDPOAKEE7"
      },
      "execution_count": null,
      "outputs": []
    },
    {
      "cell_type": "code",
      "source": [
        "reset=None\n"
      ],
      "metadata": {
        "id": "Q2XpnvpSKa-t"
      },
      "execution_count": null,
      "outputs": []
    },
    {
      "cell_type": "code",
      "source": [
        "import serial\n",
        "uart=serial.Serial(\"/dev/ttyS0\", baudrate=9600, timeout=0.95)\n"
      ],
      "metadata": {
        "id": "HxANoETvKdrT"
      },
      "execution_count": null,
      "outputs": []
    },
    {
      "cell_type": "code",
      "source": [
        "from adafruit_pm25.uart import PM25_UART\n",
        "pm25=PM25_UART(uart,reset)\n"
      ],
      "metadata": {
        "id": "ZxsNy2zaKyot"
      },
      "execution_count": null,
      "outputs": []
    },
    {
      "cell_type": "code",
      "source": [
        "import csv\n",
        "meta_data=[\"Time\", \"PM10 std\", \"PM25 std\", \"PM100 std\", \"Temperature\", \"Gas\", \"Pressure\", \"Altitude\", \"Relative Humididty\"]\n",
        "f=open(\"sensor_data.csv\", \"w\", newline='')\n",
        "writer=csv.writer(f)\n",
        "writer.writerow(meta_data)\n",
        "print(sys.argv)\n",
        "start=int(time.time())\n",
        "run=int(sys.argv[1])\n",
        "itime=start"
      ],
      "metadata": {
        "id": "bX1eezKtLCom"
      },
      "execution_count": null,
      "outputs": []
    },
    {
      "cell_type": "code",
      "source": [
        "while itime<(start+run):\n",
        "  "
      ],
      "metadata": {
        "id": "RybI8tDJMJhy"
      },
      "execution_count": null,
      "outputs": []
    }
  ]
}